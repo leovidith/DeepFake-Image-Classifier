{
  "metadata": {
    "kernelspec": {
      "language": "python",
      "display_name": "Python 3",
      "name": "python3"
    },
    "language_info": {
      "name": "python",
      "version": "3.10.12",
      "mimetype": "text/x-python",
      "codemirror_mode": {
        "name": "ipython",
        "version": 3
      },
      "pygments_lexer": "ipython3",
      "nbconvert_exporter": "python",
      "file_extension": ".py"
    },
    "kaggle": {
      "accelerator": "gpu",
      "dataSources": [
        {
          "sourceId": 250645,
          "sourceType": "datasetVersion",
          "datasetId": 105271
        },
        {
          "sourceId": 939937,
          "sourceType": "datasetVersion",
          "datasetId": 501529
        },
        {
          "sourceId": 3134515,
          "sourceType": "datasetVersion",
          "datasetId": 1909705
        },
        {
          "sourceId": 3142794,
          "sourceType": "datasetVersion",
          "datasetId": 1913588
        },
        {
          "sourceId": 7800365,
          "sourceType": "datasetVersion",
          "datasetId": 4567330
        }
      ],
      "dockerImageVersionId": 30587,
      "isInternetEnabled": true,
      "language": "python",
      "sourceType": "notebook",
      "isGpuEnabled": true
    },
    "colab": {
      "provenance": []
    }
  },
  "nbformat_minor": 0,
  "nbformat": 4,
  "cells": [
    {
      "cell_type": "code",
      "source": [
        "import os\n",
        "import numpy as np\n",
        "import pandas as pd\n",
        "import cv2\n",
        "import tensorflow as tf\n",
        "from tensorflow.keras.models import Sequential\n",
        "from tensorflow.keras.layers import Conv2D, MaxPooling2D, Dense, Flatten, Dropout\n",
        "from tensorflow.keras.metrics import Precision, Recall, BinaryAccuracy\n",
        "from keras.models import load_model\n",
        "from keras.preprocessing import image\n",
        "from keras.applications import MobileNetV2\n",
        "from keras.applications.mobilenet_v2 import preprocess_input, decode_predictions\n",
        "from keras.preprocessing.image import ImageDataGenerator\n",
        "from matplotlib import pyplot as plt\n",
        "import csv"
      ],
      "metadata": {
        "_uuid": "8f2839f25d086af736a60e9eeb907d3b93b6e0e5",
        "_cell_guid": "b1076dfc-b9ad-4769-8c92-a6c4dae69d19",
        "execution": {
          "iopub.status.busy": "2024-03-11T14:31:52.520364Z",
          "iopub.status.idle": "2024-03-11T14:31:52.520685Z",
          "shell.execute_reply.started": "2024-03-11T14:31:52.520530Z",
          "shell.execute_reply": "2024-03-11T14:31:52.520545Z"
        },
        "trusted": true,
        "id": "TvCo4RIwisfm"
      },
      "execution_count": null,
      "outputs": []
    },
    {
      "cell_type": "code",
      "source": [
        "data_csv='/contents/input/dataset/dataset.csv'\n",
        "data1_dir = '/contents/input/140k-real-and-fake-faces/real_vs_fake/real-vs-fake'\n",
        "data2_dir = '/contents/input/deepfake-and-real-images/Dataset'\n",
        "data3_dir = '/contents/input/hardfakevsrealfaces'\n",
        "data4_dir = '/contents/input/real-and-fake-face-detection/real_and_fake_face'\n",
        "data5_dir = '/coontents/input/real-vs-ai-generated-faces-dataset/dataset/dataset'"
      ],
      "metadata": {
        "execution": {
          "iopub.status.busy": "2024-03-11T14:31:52.521631Z",
          "iopub.status.idle": "2024-03-11T14:31:52.521984Z",
          "shell.execute_reply.started": "2024-03-11T14:31:52.521811Z",
          "shell.execute_reply": "2024-03-11T14:31:52.521828Z"
        },
        "trusted": true,
        "id": "qJvhyhh4isfn"
      },
      "execution_count": null,
      "outputs": []
    },
    {
      "cell_type": "code",
      "source": [
        "if os.path.exists(data_csv):\n",
        "    print('exists')\n",
        "else:\n",
        "\n",
        "    data_dirs = [ data5_dir, data4_dir]\n",
        "    csv_file = 'dataset1.csv'\n",
        "    data_csv=csv_file\n",
        "\n",
        "    class_mapping = {\n",
        "        'fake': 'Fake',\n",
        "        'real': 'Real',\n",
        "        'Fake': 'Fake',\n",
        "        'Real': 'Real',\n",
        "        'training_fake': 'Fake',\n",
        "        'training_real': 'Real',\n",
        "        '0':'Real',\n",
        "        '1':'Fake'\n",
        "    }\n",
        "\n",
        "    with open(csv_file, 'w', newline='') as file:\n",
        "        writer = csv.writer(file)\n",
        "        writer.writerow(['image', 'label'])\n",
        "\n",
        "        for data_dir in data_dirs:\n",
        "            for root, dirs, files in os.walk(data_dir):\n",
        "                for file in files:\n",
        "                    if file.endswith('.jpg') or file.endswith('.png'):\n",
        "                        image_path = os.path.join(root, file)\n",
        "\n",
        "                        label = os.path.basename(root)\n",
        "\n",
        "                        mapped_label = class_mapping.get(label, label)\n",
        "\n",
        "                        writer.writerow([image_path, mapped_label])\n"
      ],
      "metadata": {
        "execution": {
          "iopub.status.busy": "2024-03-11T14:31:52.525042Z",
          "iopub.status.idle": "2024-03-11T14:31:52.525563Z",
          "shell.execute_reply.started": "2024-03-11T14:31:52.525323Z",
          "shell.execute_reply": "2024-03-11T14:31:52.525344Z"
        },
        "trusted": true,
        "id": "sxkbSVODisfs"
      },
      "execution_count": null,
      "outputs": []
    },
    {
      "cell_type": "code",
      "source": [
        "target_size = (150, 150)"
      ],
      "metadata": {
        "execution": {
          "iopub.status.busy": "2024-03-11T14:13:10.643193Z",
          "iopub.execute_input": "2024-03-11T14:13:10.643528Z",
          "iopub.status.idle": "2024-03-11T14:13:10.648069Z",
          "shell.execute_reply.started": "2024-03-11T14:13:10.643502Z",
          "shell.execute_reply": "2024-03-11T14:13:10.647078Z"
        },
        "trusted": true,
        "id": "0OQMonZgisfs"
      },
      "execution_count": null,
      "outputs": []
    },
    {
      "cell_type": "code",
      "source": [
        "df = pd.read_csv(data_csv)\n",
        "\n",
        "datagen = ImageDataGenerator(\n",
        "    rescale=1./255,\n",
        "    validation_split=0.2,\n",
        ")"
      ],
      "metadata": {
        "execution": {
          "iopub.status.busy": "2024-03-11T14:13:10.649214Z",
          "iopub.execute_input": "2024-03-11T14:13:10.649563Z",
          "iopub.status.idle": "2024-03-11T14:13:10.883218Z",
          "shell.execute_reply.started": "2024-03-11T14:13:10.649537Z",
          "shell.execute_reply": "2024-03-11T14:13:10.882446Z"
        },
        "trusted": true,
        "id": "UkT7e7qTisft"
      },
      "execution_count": null,
      "outputs": []
    },
    {
      "cell_type": "code",
      "source": [
        "data_generator = datagen.flow_from_dataframe(\n",
        "    dataframe=df,\n",
        "    x_col='image',\n",
        "    y_col='label',\n",
        "    target_size=target_size,\n",
        "    batch_size=32,\n",
        "    class_mode='binary',\n",
        "    shuffle=True,\n",
        "    seed=42,\n",
        "    subset='training'\n",
        ")"
      ],
      "metadata": {
        "execution": {
          "iopub.status.busy": "2024-03-11T14:13:10.884342Z",
          "iopub.execute_input": "2024-03-11T14:13:10.884641Z",
          "iopub.status.idle": "2024-03-11T14:14:12.425408Z",
          "shell.execute_reply.started": "2024-03-11T14:13:10.884616Z",
          "shell.execute_reply": "2024-03-11T14:14:12.424547Z"
        },
        "trusted": true,
        "id": "oX0ABLNPisft",
        "outputId": "e3771756-46c1-45fc-d1a9-69f6d79bb137"
      },
      "execution_count": null,
      "outputs": [
        {
          "name": "stdout",
          "text": "Found 98396 validated image filenames belonging to 2 classes.\n",
          "output_type": "stream"
        }
      ]
    },
    {
      "cell_type": "code",
      "source": [
        "validation_generator = datagen.flow_from_dataframe(\n",
        "    dataframe=df,\n",
        "    x_col='image',\n",
        "    y_col='label',\n",
        "    target_size=target_size,\n",
        "    batch_size=32,\n",
        "    class_mode='binary',\n",
        "    shuffle=True,\n",
        "    seed=42,\n",
        "    subset='validation'\n",
        ")"
      ],
      "metadata": {
        "execution": {
          "iopub.status.busy": "2024-03-11T14:14:12.426695Z",
          "iopub.execute_input": "2024-03-11T14:14:12.427064Z",
          "iopub.status.idle": "2024-03-11T14:15:12.495939Z",
          "shell.execute_reply.started": "2024-03-11T14:14:12.427029Z",
          "shell.execute_reply": "2024-03-11T14:15:12.495132Z"
        },
        "trusted": true,
        "id": "IgTu2Z9Hisft",
        "outputId": "40b4e739-8642-4c2f-c9ab-58329bd32017"
      },
      "execution_count": null,
      "outputs": [
        {
          "name": "stdout",
          "text": "Found 24599 validated image filenames belonging to 2 classes.\n",
          "output_type": "stream"
        }
      ]
    },
    {
      "cell_type": "code",
      "source": [
        "from tensorflow.keras.models import Sequential\n",
        "from tensorflow.keras.layers import Conv2D, MaxPooling2D, Flatten, Dense, Dropout\n",
        "\n",
        "model = Sequential()\n",
        "\n",
        "model.add(Conv2D(32, (3, 3), activation='relu', padding='same',input_shape=(target_size[0],target_size[1], 3)))\n",
        "model.add(MaxPooling2D((2, 2), strides=(2, 2)))\n",
        "\n",
        "model.add(Conv2D(64, (3, 3), activation='relu', padding='same'))\n",
        "model.add(MaxPooling2D((2, 2), strides=(2, 2)))\n",
        "\n",
        "model.add(Conv2D(128, (3, 3), activation='relu', padding='same'))\n",
        "model.add(MaxPooling2D((2, 2), strides=(2, 2)))\n",
        "\n",
        "model.add(Conv2D(256, (3, 3), activation='relu', padding='same'))\n",
        "model.add(MaxPooling2D((2, 2), strides=(2, 2)))\n",
        "\n",
        "model.add(Flatten())\n",
        "model.add(Dense(256, activation='relu'))\n",
        "model.add(Dense(512, activation='relu'))\n",
        "\n",
        "model.add(Dense(1, activation='sigmoid'))"
      ],
      "metadata": {
        "execution": {
          "iopub.status.busy": "2024-03-11T16:03:25.720715Z",
          "iopub.execute_input": "2024-03-11T16:03:25.721119Z",
          "iopub.status.idle": "2024-03-11T16:03:25.825240Z",
          "shell.execute_reply.started": "2024-03-11T16:03:25.721089Z",
          "shell.execute_reply": "2024-03-11T16:03:25.824504Z"
        },
        "trusted": true,
        "id": "fKi0BUxvisft"
      },
      "execution_count": null,
      "outputs": []
    },
    {
      "cell_type": "code",
      "source": [
        "model.compile(optimizer = tf.keras.optimizers.Adam(Learning_rate=0.001),\n",
        "              loss=tf.losses.BinaryCrossentropy(),\n",
        "              metrics=['accuracy'])"
      ],
      "metadata": {
        "execution": {
          "iopub.status.busy": "2024-03-11T16:03:41.921871Z",
          "iopub.execute_input": "2024-03-11T16:03:41.922778Z",
          "iopub.status.idle": "2024-03-11T16:03:41.934955Z",
          "shell.execute_reply.started": "2024-03-11T16:03:41.922741Z",
          "shell.execute_reply": "2024-03-11T16:03:41.934198Z"
        },
        "trusted": true,
        "id": "VRcxfAvmisfu"
      },
      "execution_count": null,
      "outputs": []
    },
    {
      "cell_type": "code",
      "source": [
        "model.summary()"
      ],
      "metadata": {
        "execution": {
          "iopub.status.busy": "2024-03-11T16:03:42.830407Z",
          "iopub.execute_input": "2024-03-11T16:03:42.831137Z",
          "iopub.status.idle": "2024-03-11T16:03:42.867506Z",
          "shell.execute_reply.started": "2024-03-11T16:03:42.831109Z",
          "shell.execute_reply": "2024-03-11T16:03:42.866649Z"
        },
        "trusted": true,
        "id": "HnA34fXOisfu",
        "outputId": "6de37911-e2bd-4572-edc5-70a44dafe794"
      },
      "execution_count": null,
      "outputs": [
        {
          "name": "stdout",
          "text": "Model: \"sequential_4\"\n_________________________________________________________________\n Layer (type)                Output Shape              Param #   \n=================================================================\n conv2d_24 (Conv2D)          (None, 150, 150, 32)      896       \n                                                                 \n max_pooling2d_18 (MaxPooli  (None, 75, 75, 32)        0         \n ng2D)                                                           \n                                                                 \n conv2d_25 (Conv2D)          (None, 75, 75, 64)        18496     \n                                                                 \n max_pooling2d_19 (MaxPooli  (None, 37, 37, 64)        0         \n ng2D)                                                           \n                                                                 \n conv2d_26 (Conv2D)          (None, 37, 37, 128)       73856     \n                                                                 \n max_pooling2d_20 (MaxPooli  (None, 18, 18, 128)       0         \n ng2D)                                                           \n                                                                 \n conv2d_27 (Conv2D)          (None, 18, 18, 256)       295168    \n                                                                 \n max_pooling2d_21 (MaxPooli  (None, 9, 9, 256)         0         \n ng2D)                                                           \n                                                                 \n flatten_4 (Flatten)         (None, 20736)             0         \n                                                                 \n dense_12 (Dense)            (None, 256)               5308672   \n                                                                 \n dense_13 (Dense)            (None, 512)               131584    \n                                                                 \n dense_14 (Dense)            (None, 1)                 513       \n                                                                 \n=================================================================\nTotal params: 5829185 (22.24 MB)\nTrainable params: 5829185 (22.24 MB)\nNon-trainable params: 0 (0.00 Byte)\n_________________________________________________________________\n",
          "output_type": "stream"
        }
      ]
    },
    {
      "cell_type": "code",
      "source": [
        "history = model.fit(data_generator,batch_size=32,epochs=25,validation_data=validation_generator)"
      ],
      "metadata": {
        "execution": {
          "iopub.status.busy": "2024-03-11T16:04:04.679809Z",
          "iopub.execute_input": "2024-03-11T16:04:04.680542Z",
          "iopub.status.idle": "2024-03-11T18:25:13.113698Z",
          "shell.execute_reply.started": "2024-03-11T16:04:04.680509Z",
          "shell.execute_reply": "2024-03-11T18:25:13.112881Z"
        },
        "trusted": true,
        "id": "QuBD-A-Uisfu",
        "outputId": "08204657-b7be-4f82-87e3-7fefbb777f2c"
      },
      "execution_count": null,
      "outputs": [
        {
          "name": "stdout",
          "text": "Epoch 1/25\n3075/3075 [==============================] - 345s 112ms/step - loss: 0.5284 - accuracy: 0.7325 - val_loss: 0.3993 - val_accuracy: 0.8238\nEpoch 2/25\n3075/3075 [==============================] - 328s 107ms/step - loss: 0.3800 - accuracy: 0.8353 - val_loss: 0.3424 - val_accuracy: 0.8520\nEpoch 3/25\n3075/3075 [==============================] - 334s 109ms/step - loss: 0.3111 - accuracy: 0.8711 - val_loss: 0.2926 - val_accuracy: 0.8854\nEpoch 4/25\n3075/3075 [==============================] - 329s 107ms/step - loss: 0.2675 - accuracy: 0.8927 - val_loss: 0.2413 - val_accuracy: 0.9040\nEpoch 5/25\n3075/3075 [==============================] - 330s 107ms/step - loss: 0.2370 - accuracy: 0.9057 - val_loss: 0.2341 - val_accuracy: 0.9085\nEpoch 6/25\n3075/3075 [==============================] - 323s 105ms/step - loss: 0.2167 - accuracy: 0.9151 - val_loss: 0.2120 - val_accuracy: 0.9189\nEpoch 7/25\n3075/3075 [==============================] - 326s 106ms/step - loss: 0.2005 - accuracy: 0.9226 - val_loss: 0.2458 - val_accuracy: 0.9024\nEpoch 8/25\n3075/3075 [==============================] - 339s 110ms/step - loss: 0.1860 - accuracy: 0.9278 - val_loss: 0.2062 - val_accuracy: 0.9206\nEpoch 9/25\n3075/3075 [==============================] - 321s 104ms/step - loss: 0.1729 - accuracy: 0.9331 - val_loss: 0.2178 - val_accuracy: 0.9167\nEpoch 10/25\n3075/3075 [==============================] - 329s 107ms/step - loss: 0.1659 - accuracy: 0.9356 - val_loss: 0.1876 - val_accuracy: 0.9319\nEpoch 11/25\n3075/3075 [==============================] - 340s 111ms/step - loss: 0.1586 - accuracy: 0.9385 - val_loss: 0.1899 - val_accuracy: 0.9321\nEpoch 12/25\n3075/3075 [==============================] - 332s 108ms/step - loss: 0.1512 - accuracy: 0.9412 - val_loss: 0.1891 - val_accuracy: 0.9319\nEpoch 13/25\n3075/3075 [==============================] - 322s 105ms/step - loss: 0.1468 - accuracy: 0.9434 - val_loss: 0.1999 - val_accuracy: 0.9313\nEpoch 14/25\n3075/3075 [==============================] - 358s 117ms/step - loss: 0.1458 - accuracy: 0.9444 - val_loss: 0.1899 - val_accuracy: 0.9328\nEpoch 15/25\n3075/3075 [==============================] - 352s 114ms/step - loss: 0.1368 - accuracy: 0.9463 - val_loss: 0.2212 - val_accuracy: 0.9273\nEpoch 16/25\n3075/3075 [==============================] - 349s 114ms/step - loss: 0.1328 - accuracy: 0.9501 - val_loss: 0.2223 - val_accuracy: 0.9335\nEpoch 17/25\n3075/3075 [==============================] - 353s 115ms/step - loss: 0.1272 - accuracy: 0.9525 - val_loss: 0.2243 - val_accuracy: 0.9290\nEpoch 18/25\n3075/3075 [==============================] - 361s 117ms/step - loss: 0.1257 - accuracy: 0.9535 - val_loss: 0.1952 - val_accuracy: 0.9315\nEpoch 19/25\n3075/3075 [==============================] - 348s 113ms/step - loss: 0.1189 - accuracy: 0.9549 - val_loss: 0.2103 - val_accuracy: 0.9311\nEpoch 20/25\n3075/3075 [==============================] - 352s 115ms/step - loss: 0.1176 - accuracy: 0.9561 - val_loss: 0.1844 - val_accuracy: 0.9379\nEpoch 21/25\n3075/3075 [==============================] - 356s 116ms/step - loss: 0.1230 - accuracy: 0.9535 - val_loss: 0.2134 - val_accuracy: 0.9356\nEpoch 22/25\n3075/3075 [==============================] - 349s 113ms/step - loss: 0.1139 - accuracy: 0.9581 - val_loss: 0.2116 - val_accuracy: 0.9317\nEpoch 23/25\n3075/3075 [==============================] - 346s 112ms/step - loss: 0.1112 - accuracy: 0.9586 - val_loss: 0.1831 - val_accuracy: 0.9373\nEpoch 24/25\n3075/3075 [==============================] - 325s 106ms/step - loss: 0.1082 - accuracy: 0.9593 - val_loss: 0.1759 - val_accuracy: 0.9376\nEpoch 25/25\n3075/3075 [==============================] - 321s 104ms/step - loss: 0.1060 - accuracy: 0.9602 - val_loss: 0.2002 - val_accuracy: 0.9330\n",
          "output_type": "stream"
        }
      ]
    },
    {
      "cell_type": "code",
      "source": [
        "fig = plt.figure()\n",
        "plt.plot(history.history['loss'], color='teal',label='loss')\n",
        "plt.plot(history.history['val_loss'], color='orange',label='val_loss')\n",
        "fig.suptitle('Loss',fontsize=20)\n",
        "plt.legend(loc=\"upper left\")\n",
        "plt.show()"
      ],
      "metadata": {
        "execution": {
          "iopub.status.busy": "2024-03-11T18:32:03.793473Z",
          "iopub.execute_input": "2024-03-11T18:32:03.794192Z",
          "iopub.status.idle": "2024-03-11T18:32:03.976880Z",
          "shell.execute_reply.started": "2024-03-11T18:32:03.794162Z",
          "shell.execute_reply": "2024-03-11T18:32:03.976018Z"
        },
        "trusted": true,
        "id": "1W76RwOkisfv",
        "outputId": "468bec22-4bd1-43b5-9b57-7337c15662c1"
      },
      "execution_count": null,
      "outputs": [
        {
          "output_type": "display_data",
          "data": {
            "text/plain": "<Figure size 640x480 with 1 Axes>",
            "image/png": "[encoded data removed]"
          },
          "metadata": {}
        }
      ]
    },
    {
      "cell_type": "code",
      "source": [
        "fig = plt.figure()\n",
        "plt.plot(history.history['accuracy'], color='teal',label='accuracy')\n",
        "plt.plot(history.history['val_accuracy'], color='orange',label='val_accuracy')\n",
        "fig.suptitle('Accuracy',fontsize=20)\n",
        "plt.legend(loc=\"upper left\")\n",
        "plt.show()"
      ],
      "metadata": {
        "execution": {
          "iopub.status.busy": "2024-03-11T18:32:08.491866Z",
          "iopub.execute_input": "2024-03-11T18:32:08.492492Z",
          "iopub.status.idle": "2024-03-11T18:32:08.676445Z",
          "shell.execute_reply.started": "2024-03-11T18:32:08.492457Z",
          "shell.execute_reply": "2024-03-11T18:32:08.675466Z"
        },
        "trusted": true,
        "id": "0ATGsuQOisfv",
        "outputId": "6b1a3065-2e6c-49e7-8dec-51152e376b7f"
      },
      "execution_count": null,
      "outputs": [
        {
          "output_type": "display_data",
          "data": {
            "text/plain": "<Figure size 640x480 with 1 Axes>",
            "image/png": "[encoded data removed]"
          },
          "metadata": {}
        }
      ]
    }
  ]
}